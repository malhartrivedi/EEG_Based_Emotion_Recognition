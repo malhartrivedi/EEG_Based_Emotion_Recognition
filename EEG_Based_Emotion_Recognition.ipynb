{
  "nbformat": 4,
  "nbformat_minor": 0,
  "metadata": {
    "colab": {
      "provenance": [],
      "include_colab_link": true
    },
    "kernelspec": {
      "name": "python3",
      "display_name": "Python 3"
    },
    "language_info": {
      "name": "python"
    }
  },
  "cells": [
    {
      "cell_type": "markdown",
      "metadata": {
        "id": "view-in-github",
        "colab_type": "text"
      },
      "source": [
        "<a href=\"https://colab.research.google.com/github/malhartrivedi/EEG_Based_Emotion_Recognition/blob/main/EEG_Based_Emotion_Recognition.ipynb\" target=\"_parent\"><img src=\"https://colab.research.google.com/assets/colab-badge.svg\" alt=\"Open In Colab\"/></a>"
      ]
    },
    {
      "cell_type": "code",
      "execution_count": null,
      "metadata": {
        "id": "Z6CZ5eJhFdtF"
      },
      "outputs": [],
      "source": [
        "# Importing necessary libraries\n",
        "from google.colab import drive\n",
        "import numpy as np\n",
        "import tensorflow as tf\n",
        "import os\n",
        "from scipy.io import loadmat\n",
        "import matplotlib.pyplot as plt\n",
        "from sklearn.model_selection import StratifiedKFold\n",
        "from sklearn.model_selection import train_test_split"
      ]
    },
    {
      "cell_type": "code",
      "source": [
        "from google.colab import drive\n",
        "drive.mount('/content/drive')"
      ],
      "metadata": {
        "colab": {
          "base_uri": "https://localhost:8080/"
        },
        "id": "LlkXpxT2jeJN",
        "outputId": "600ffda1-5929-43e7-9a45-8953546597af"
      },
      "execution_count": null,
      "outputs": [
        {
          "output_type": "stream",
          "name": "stdout",
          "text": [
            "Mounted at /content/drive\n"
          ]
        }
      ]
    },
    {
      "cell_type": "code",
      "source": [
        "# Data Loading and Feature Extraction\n",
        "directory = \"/content/drive/MyDrive/EEG/Dataset/seed_iv/eeg_feature_smooth/1\"\n",
        "directories = [\"/content/drive/MyDrive/EEG/Dataset/seed_iv/eeg_feature_smooth/{}/\".format(i + 1) for i in range(3)]"
      ],
      "metadata": {
        "id": "o49Wp1rpFyL5"
      },
      "execution_count": null,
      "outputs": []
    },
    {
      "cell_type": "code",
      "source": [
        " # Load the .mat file\n",
        "# Change the file path to the specific .mat file wanted to load\n",
        "#data = loadmat('/content/drive/MyDrive/EEG/Dataset/seed_iv/eeg_feature_smooth/1/11_20150916.mat')\n",
        "data = loadmat('/content/drive/MyDrive/EEG/Dataset/seed_iv/eeg_feature_smooth/1/10_20151014.mat')\n",
        "\n",
        "# Print the variable names and their types in the loaded .mat file\n",
        "for variable_name in data:\n",
        "    print(f\"{variable_name}: {type(data[variable_name])}\")"
      ],
      "metadata": {
        "id": "0OPszdKoYenC",
        "colab": {
          "base_uri": "https://localhost:8080/"
        },
        "outputId": "f122b38f-88ca-4a99-c6f0-af32e1f015b8"
      },
      "execution_count": null,
      "outputs": [
        {
          "output_type": "stream",
          "name": "stdout",
          "text": [
            "__header__: <class 'bytes'>\n",
            "__version__: <class 'str'>\n",
            "__globals__: <class 'list'>\n",
            "de_movingAve1: <class 'numpy.ndarray'>\n",
            "de_LDS1: <class 'numpy.ndarray'>\n",
            "psd_movingAve1: <class 'numpy.ndarray'>\n",
            "psd_LDS1: <class 'numpy.ndarray'>\n",
            "de_movingAve2: <class 'numpy.ndarray'>\n",
            "de_LDS2: <class 'numpy.ndarray'>\n",
            "psd_movingAve2: <class 'numpy.ndarray'>\n",
            "psd_LDS2: <class 'numpy.ndarray'>\n",
            "de_movingAve3: <class 'numpy.ndarray'>\n",
            "de_LDS3: <class 'numpy.ndarray'>\n",
            "psd_movingAve3: <class 'numpy.ndarray'>\n",
            "psd_LDS3: <class 'numpy.ndarray'>\n",
            "de_movingAve4: <class 'numpy.ndarray'>\n",
            "de_LDS4: <class 'numpy.ndarray'>\n",
            "psd_movingAve4: <class 'numpy.ndarray'>\n",
            "psd_LDS4: <class 'numpy.ndarray'>\n",
            "de_movingAve5: <class 'numpy.ndarray'>\n",
            "de_LDS5: <class 'numpy.ndarray'>\n",
            "psd_movingAve5: <class 'numpy.ndarray'>\n",
            "psd_LDS5: <class 'numpy.ndarray'>\n",
            "de_movingAve6: <class 'numpy.ndarray'>\n",
            "de_LDS6: <class 'numpy.ndarray'>\n",
            "psd_movingAve6: <class 'numpy.ndarray'>\n",
            "psd_LDS6: <class 'numpy.ndarray'>\n",
            "de_movingAve7: <class 'numpy.ndarray'>\n",
            "de_LDS7: <class 'numpy.ndarray'>\n",
            "psd_movingAve7: <class 'numpy.ndarray'>\n",
            "psd_LDS7: <class 'numpy.ndarray'>\n",
            "de_movingAve8: <class 'numpy.ndarray'>\n",
            "de_LDS8: <class 'numpy.ndarray'>\n",
            "psd_movingAve8: <class 'numpy.ndarray'>\n",
            "psd_LDS8: <class 'numpy.ndarray'>\n",
            "de_movingAve9: <class 'numpy.ndarray'>\n",
            "de_LDS9: <class 'numpy.ndarray'>\n",
            "psd_movingAve9: <class 'numpy.ndarray'>\n",
            "psd_LDS9: <class 'numpy.ndarray'>\n",
            "de_movingAve10: <class 'numpy.ndarray'>\n",
            "de_LDS10: <class 'numpy.ndarray'>\n",
            "psd_movingAve10: <class 'numpy.ndarray'>\n",
            "psd_LDS10: <class 'numpy.ndarray'>\n",
            "de_movingAve11: <class 'numpy.ndarray'>\n",
            "de_LDS11: <class 'numpy.ndarray'>\n",
            "psd_movingAve11: <class 'numpy.ndarray'>\n",
            "psd_LDS11: <class 'numpy.ndarray'>\n",
            "de_movingAve12: <class 'numpy.ndarray'>\n",
            "de_LDS12: <class 'numpy.ndarray'>\n",
            "psd_movingAve12: <class 'numpy.ndarray'>\n",
            "psd_LDS12: <class 'numpy.ndarray'>\n",
            "de_movingAve13: <class 'numpy.ndarray'>\n",
            "de_LDS13: <class 'numpy.ndarray'>\n",
            "psd_movingAve13: <class 'numpy.ndarray'>\n",
            "psd_LDS13: <class 'numpy.ndarray'>\n",
            "de_movingAve14: <class 'numpy.ndarray'>\n",
            "de_LDS14: <class 'numpy.ndarray'>\n",
            "psd_movingAve14: <class 'numpy.ndarray'>\n",
            "psd_LDS14: <class 'numpy.ndarray'>\n",
            "de_movingAve15: <class 'numpy.ndarray'>\n",
            "de_LDS15: <class 'numpy.ndarray'>\n",
            "psd_movingAve15: <class 'numpy.ndarray'>\n",
            "psd_LDS15: <class 'numpy.ndarray'>\n",
            "de_movingAve16: <class 'numpy.ndarray'>\n",
            "de_LDS16: <class 'numpy.ndarray'>\n",
            "psd_movingAve16: <class 'numpy.ndarray'>\n",
            "psd_LDS16: <class 'numpy.ndarray'>\n",
            "de_movingAve17: <class 'numpy.ndarray'>\n",
            "de_LDS17: <class 'numpy.ndarray'>\n",
            "psd_movingAve17: <class 'numpy.ndarray'>\n",
            "psd_LDS17: <class 'numpy.ndarray'>\n",
            "de_movingAve18: <class 'numpy.ndarray'>\n",
            "de_LDS18: <class 'numpy.ndarray'>\n",
            "psd_movingAve18: <class 'numpy.ndarray'>\n",
            "psd_LDS18: <class 'numpy.ndarray'>\n",
            "de_movingAve19: <class 'numpy.ndarray'>\n",
            "de_LDS19: <class 'numpy.ndarray'>\n",
            "psd_movingAve19: <class 'numpy.ndarray'>\n",
            "psd_LDS19: <class 'numpy.ndarray'>\n",
            "de_movingAve20: <class 'numpy.ndarray'>\n",
            "de_LDS20: <class 'numpy.ndarray'>\n",
            "psd_movingAve20: <class 'numpy.ndarray'>\n",
            "psd_LDS20: <class 'numpy.ndarray'>\n",
            "de_movingAve21: <class 'numpy.ndarray'>\n",
            "de_LDS21: <class 'numpy.ndarray'>\n",
            "psd_movingAve21: <class 'numpy.ndarray'>\n",
            "psd_LDS21: <class 'numpy.ndarray'>\n",
            "de_movingAve22: <class 'numpy.ndarray'>\n",
            "de_LDS22: <class 'numpy.ndarray'>\n",
            "psd_movingAve22: <class 'numpy.ndarray'>\n",
            "psd_LDS22: <class 'numpy.ndarray'>\n",
            "de_movingAve23: <class 'numpy.ndarray'>\n",
            "de_LDS23: <class 'numpy.ndarray'>\n",
            "psd_movingAve23: <class 'numpy.ndarray'>\n",
            "psd_LDS23: <class 'numpy.ndarray'>\n",
            "de_movingAve24: <class 'numpy.ndarray'>\n",
            "de_LDS24: <class 'numpy.ndarray'>\n",
            "psd_movingAve24: <class 'numpy.ndarray'>\n",
            "psd_LDS24: <class 'numpy.ndarray'>\n"
          ]
        }
      ]
    },
    {
      "cell_type": "code",
      "source": [
        "# Define channel coordinates and a list of channel names\n",
        "channel_coords = [['0', '0', 'AF3', 'FP1', 'FPZ', 'FP2', 'AF4', '0', '0'], ['F7', 'F5', 'F3', 'F1', 'FZ', 'F2', 'F4', 'F6', 'F8'], ['FT7', 'FC5', 'FC3', 'FC1', 'FCZ', 'FC2', 'FC4', 'FC6', 'FT8'], ['T7', 'C5', 'C3', 'C1', 'CZ', 'C2', 'C4', 'C6', 'T8'], ['TP7', 'CP5', 'CP3', 'CP1', 'CPZ', 'CP2', 'CP4', 'CP6', 'TP8'], ['P7', 'P5', 'P3', 'P1', 'PZ', 'P2', 'P4', 'P6', 'P8'], ['0', 'PO7', 'PO5', 'PO3', 'POZ', 'PO4', 'PO6', 'PO8', '0'], ['0', '0', 'CB1', 'O1', 'OZ', 'O2', 'CB2', '0', '0']]\n",
        "channel_list = ['FP1', 'FPZ', 'FP2', 'AF3', 'AF4', 'F7', 'F5', 'F3', 'F1', 'FZ', 'F2', 'F4', 'F6', 'F8', 'FT7', 'FC5', 'FC3', 'FC1', 'FCZ', 'FC2', 'FC4', 'FC6', 'FT8', 'T7', 'C5', 'C3', 'C1', 'CZ', 'C2', 'C4', 'C6', 'T8', 'TP7', 'CP5', 'CP3', 'CP1', 'CPZ', 'CP2', 'CP4', 'CP6', 'TP8', 'P7', 'P5', 'P3', 'P1', 'PZ', 'P2', 'P4', 'P6', 'P8', 'PO7', 'PO5', 'PO3', 'POZ', 'PO4', 'PO6', 'PO8', 'CB1', 'O1', 'OZ', 'O2', 'CB2']\n",
        "# Calculate the dimensions\n",
        "print(len(channel_coords), len(channel_coords[0]))\n",
        "# Creating a dictionary to map channel names to their coordinates\n",
        "coord_dict = {}\n",
        "for n in range(len(channel_list)):\n",
        "    for i, l in enumerate(channel_coords):\n",
        "        for j, x in enumerate(l):\n",
        "            if (channel_list[n] == x):\n",
        "                coord_dict[n] = (i,j)\n",
        "print(coord_dict)"
      ],
      "metadata": {
        "id": "FGfTwR3IGPbq",
        "colab": {
          "base_uri": "https://localhost:8080/"
        },
        "outputId": "1807a4b1-0552-4f54-8917-7a51cb0271af"
      },
      "execution_count": null,
      "outputs": [
        {
          "output_type": "stream",
          "name": "stdout",
          "text": [
            "8 9\n",
            "{0: (0, 3), 1: (0, 4), 2: (0, 5), 3: (0, 2), 4: (0, 6), 5: (1, 0), 6: (1, 1), 7: (1, 2), 8: (1, 3), 9: (1, 4), 10: (1, 5), 11: (1, 6), 12: (1, 7), 13: (1, 8), 14: (2, 0), 15: (2, 1), 16: (2, 2), 17: (2, 3), 18: (2, 4), 19: (2, 5), 20: (2, 6), 21: (2, 7), 22: (2, 8), 23: (3, 0), 24: (3, 1), 25: (3, 2), 26: (3, 3), 27: (3, 4), 28: (3, 5), 29: (3, 6), 30: (3, 7), 31: (3, 8), 32: (4, 0), 33: (4, 1), 34: (4, 2), 35: (4, 3), 36: (4, 4), 37: (4, 5), 38: (4, 6), 39: (4, 7), 40: (4, 8), 41: (5, 0), 42: (5, 1), 43: (5, 2), 44: (5, 3), 45: (5, 4), 46: (5, 5), 47: (5, 6), 48: (5, 7), 49: (5, 8), 50: (6, 1), 51: (6, 2), 52: (6, 3), 53: (6, 4), 54: (6, 5), 55: (6, 6), 56: (6, 7), 57: (7, 2), 58: (7, 3), 59: (7, 4), 60: (7, 5), 61: (7, 6)}\n"
          ]
        }
      ]
    },
    {
      "cell_type": "code",
      "source": [
        "# Define the number of samples and feature types\n",
        "n = 24\n",
        "perSample = ['de_movingAve', 'de_LDS', 'psd_movingAve', 'psd_LDS']\n",
        "\n",
        "# Creating an array to store the data\n",
        "array = np.zeros(shape=(len(directories), len(os.listdir(directories[0])), n, 4, 8, 9, 5, 64))\n",
        "\n",
        "# Load data and populate the array\n",
        "for h, dire in enumerate(directories):\n",
        "    data = [loadmat(dire + file) for file in os.listdir(dire)]\n",
        "    for i, bigsample in enumerate(data):\n",
        "        for j in range(n):\n",
        "            for k, key in enumerate(perSample):\n",
        "                sample = np.transpose(np.array(bigsample[key + str(j + 1)]), (0, 2, 1))\n",
        "                sample = np.pad(sample, [(0, 0), (0, 0), (0, 64 - sample.shape[2])])\n",
        "                for l, channel in enumerate(sample):\n",
        "                    array[h][i][j][k][coord_dict[l][0]][coord_dict[l][1]] = channel"
      ],
      "metadata": {
        "id": "IDQ-6bgwFzj1"
      },
      "execution_count": null,
      "outputs": []
    },
    {
      "cell_type": "code",
      "source": [
        "# Reshape the data\n",
        "_X = array.reshape(np.prod(array.shape[0:3]), *array.shape[3:])\n",
        "X_loso = array[:, :, :, 1, :, :, :]\n",
        "X_loso = np.transpose(X_loso, (0, 1, 2, 6, 3, 4, 5))"
      ],
      "metadata": {
        "id": "SHrrV4Z0Gk-g"
      },
      "execution_count": null,
      "outputs": []
    },
    {
      "cell_type": "markdown",
      "source": [
        " **Data Slice Visualization:**\n",
        "The segment enables the visualization of specific data slices by selecting a session, sample, and label index. It plots the flattened data, providing clear x and y-axis labels, allowing us to examine the data's value distribution within the chosen slice."
      ],
      "metadata": {
        "id": "WTBhxZN46MbZ"
      }
    },
    {
      "cell_type": "code",
      "source": [
        "# Data Visualization\n",
        "# Plot flattened data for a specific slice\n",
        "session_index = 0  # Can choose the session to visualize (0, 1, or 2)\n",
        "sample_index = 2   # Can choose the sample to visualize (0 to 14)\n",
        "label_index = 18    # Can choose the label to visualize (0 to 23)\n",
        "\n",
        "flattened_data = X_loso[session_index, sample_index, label_index].flatten()\n",
        "plt.figure()\n",
        "plt.plot(flattened_data)\n",
        "plt.title(f'Session {session_index}, Sample {sample_index}, Label {label_index}')\n",
        "plt.xlabel('Data Point Index')\n",
        "plt.ylabel('Data Value')\n",
        "plt.show()"
      ],
      "metadata": {
        "id": "aNwKDThRGl2H",
        "colab": {
          "base_uri": "https://localhost:8080/",
          "height": 472
        },
        "outputId": "0783b458-e45e-4569-e33a-4ec99cb04000"
      },
      "execution_count": null,
      "outputs": [
        {
          "output_type": "display_data",
          "data": {
            "text/plain": [
              "<Figure size 640x480 with 1 Axes>"
            ],
            "image/png": "[encoded data removed]"
          },
          "metadata": {}
        }
      ]
    },
    {
      "cell_type": "markdown",
      "source": [
        "**Data Reshaping Visualization:**\n",
        "It segments visualizes the transformation of data by comparing the state before and after reshaping. It allows us to select specific data slices (session, sample, label, and feature type) and provides a side-by-side comparison with x and y-axis labels."
      ],
      "metadata": {
        "id": "N6tcfrd95v4s"
      }
    },
    {
      "cell_type": "code",
      "source": [
        "# Select a specific slice of data for visualization\n",
        "session_index = 1  # Can choose the session to visualize (0, 1, or 2)\n",
        "sample_index = 12   # Can choose the sample to visualize (0 to 14)\n",
        "label_index = 0    # Can choose the label to visualize (0 to 23)\n",
        "\n",
        "# Select a specific feature type index\n",
        "feature_type_index = 1\n",
        "\n",
        "# Data before reshaping\n",
        "data_before_reshaping = X_loso[session_index, sample_index, label_index, :, :, feature_type_index].flatten()\n",
        "\n",
        "# Data after reshaping\n",
        "data_after_reshaping = _X[session_index * 15 * 24 + sample_index * 24 + label_index, feature_type_index, :, :, :].flatten()\n",
        "\n",
        "# Plot the data\n",
        "plt.figure(figsize=(12, 5))\n",
        "plt.subplot(1, 2, 1)\n",
        "plt.plot(data_before_reshaping)\n",
        "plt.title('Data Before Reshaping')\n",
        "plt.xlabel('Data Point Index')\n",
        "plt.ylabel('Data Value')\n",
        "\n",
        "plt.subplot(1, 2, 2)\n",
        "plt.plot(data_after_reshaping)\n",
        "plt.title('Data After Reshaping')\n",
        "plt.xlabel('Data Point Index')\n",
        "plt.ylabel('Data Value')\n",
        "plt.show()\n"
      ],
      "metadata": {
        "id": "ulXBbZTrHiWZ",
        "colab": {
          "base_uri": "https://localhost:8080/",
          "height": 487
        },
        "outputId": "d294503e-f902-4ce1-99e9-cd955572d24a"
      },
      "execution_count": null,
      "outputs": [
        {
          "output_type": "display_data",
          "data": {
            "text/plain": [
              "<Figure size 1200x500 with 2 Axes>"
            ],
            "image/png": "[encoded data removed]"
          },
          "metadata": {}
        }
      ]
    },
    {
      "cell_type": "markdown",
      "source": [
        "**Histogram for Data Distribution:**\n",
        "Visualize the distribution of values for a specific feature or variable. For example, can plot a histogram for a particular channel's data to see how values are distributed."
      ],
      "metadata": {
        "id": "gFCZZu8RkDjB"
      }
    },
    {
      "cell_type": "code",
      "source": [
        "#Histogram for a specific channel's data\n",
        "channel_idx = 0  # Can choose the channel index to visualize\n",
        "data_to_plot = X_loso[:, :, :, :, channel_idx].flatten()  # Flatten the data for the selected channel\n",
        "plt.hist(data_to_plot, bins=50, label=f'Channel {channel_list[channel_idx]}')\n",
        "plt.xlabel('Value')\n",
        "plt.ylabel('Frequency')\n",
        "plt.legend()\n",
        "plt.title(f'Histogram of Channel {channel_list[channel_idx]} Data')\n",
        "plt.show()"
      ],
      "metadata": {
        "id": "Q0CTnH5yh90A",
        "colab": {
          "base_uri": "https://localhost:8080/",
          "height": 472
        },
        "outputId": "28490e79-0da0-4351-cbdb-7147d6fd17df"
      },
      "execution_count": null,
      "outputs": [
        {
          "output_type": "display_data",
          "data": {
            "text/plain": [
              "<Figure size 640x480 with 1 Axes>"
            ],
            "image/png": "[encoded data removed]"
          },
          "metadata": {}
        }
      ]
    },
    {
      "cell_type": "code",
      "source": [
        "session1_label = [1,2,3,0,2,0,0,1,0,1,2,1,1,1,2,3,2,2,3,3,0,3,0,3]\n",
        "session2_label = [2,1,3,0,0,2,0,2,3,3,2,3,2,0,1,1,2,1,0,3,0,1,3,1]\n",
        "session3_label = [1,2,2,1,3,3,3,1,1,2,1,0,2,3,3,0,2,3,0,0,2,0,1,0]\n",
        "labels = {0: 'neutral', 1: 'sad', 2: 'fear', 3: 'happy'}\n",
        "\n",
        "y = np.array(session1_label * 15 + session2_label * 15 + session3_label * 15)\n",
        "\n",
        "print(y.shape)\n",
        "y_loso = np.reshape(y, (3,15,24))\n",
        "print(y_loso.shape)"
      ],
      "metadata": {
        "id": "KFdyF1oMNtRy",
        "colab": {
          "base_uri": "https://localhost:8080/"
        },
        "outputId": "f00af395-3821-4745-d404-aa97e845565f"
      },
      "execution_count": null,
      "outputs": [
        {
          "output_type": "stream",
          "name": "stdout",
          "text": [
            "(1080,)\n",
            "(3, 15, 24)\n"
          ]
        }
      ]
    },
    {
      "cell_type": "code",
      "source": [
        "def crossval(generate_model, n_epochs, X_train, y_train, X_test, y_test, filename = None):\n",
        "    kfold = StratifiedKFold(n_splits=2, shuffle=True, random_state=0)\n",
        "    bestmodel = None\n",
        "    bestAcc = 0\n",
        "    cvscores = []\n",
        "    fold = 1\n",
        "    for train, test in kfold.split(X_train, y_train):\n",
        "        model = generate_model()\n",
        "        model.compile(optimizer='adam',\n",
        "              loss=tf.keras.losses.SparseCategoricalCrossentropy(from_logits=True),\n",
        "              metrics=['accuracy'])\n",
        "        print('------------------------------------------------------------------------')\n",
        "        print(f'Training for fold {fold} ...')\n",
        "        model.fit(X_train[train], y_train[train],epochs=n_epochs, verbose=1) # validation_split=0.2)\n",
        "        scores = model.evaluate(X_train[test], y_train[test], verbose=1)\n",
        "        print(\"Score for fold %d - %s: %.2f%%\" % (fold, model.metrics_names[1], scores[1]*100))\n",
        "        if(scores[1] > bestAcc):\n",
        "            bestAcc = scores[1]\n",
        "            bestmodel = model\n",
        "        cvscores.append(scores[1] * 100)\n",
        "        fold += 1\n",
        "    print('------------------------------------------------------------------------')\n",
        "    print(\"Avg accuracies: %.2f%% (+/- %.2f%%)\" % (np.mean(cvscores), np.std(cvscores)))\n",
        "    test_loss, test_acc = bestmodel.evaluate(X_test,  y_test, verbose=2)\n",
        "    print('\\nTest accuracy:', test_acc)"
      ],
      "metadata": {
        "id": "TKWWiDyvk767"
      },
      "execution_count": null,
      "outputs": []
    },
    {
      "cell_type": "code",
      "source": [
        "X = _X.transpose(0,5,1,2,3,4)\n",
        "print(X.shape)\n",
        "X = X.reshape(X.shape[0], X.shape[1], np.prod(X.shape[2:]))\n",
        "print(X.shape)\n",
        "# Calculate the index to split at\n",
        "split_index = 16\n",
        "\n",
        "# Split the data into training and test sets\n",
        "X_train = X[:split_index]\n",
        "y_train = y[:split_index]\n",
        "X_test = X[split_index:]\n",
        "y_test = y[split_index:]"
      ],
      "metadata": {
        "id": "IqMaUoLFn7Rw",
        "colab": {
          "base_uri": "https://localhost:8080/"
        },
        "outputId": "e001b739-c8be-45c8-c904-b8f4851dcb6b"
      },
      "execution_count": null,
      "outputs": [
        {
          "output_type": "stream",
          "name": "stdout",
          "text": [
            "(1080, 64, 4, 8, 9, 5)\n",
            "(1080, 64, 1440)\n"
          ]
        }
      ]
    },
    {
      "cell_type": "code",
      "source": [
        "def single_con():\n",
        "    model = tf.keras.Sequential()\n",
        "\n",
        "    # Add first convolutional layer\n",
        "    model.add(tf.keras.layers.Conv1D(32, 3, activation='relu', input_shape=X.shape[1:]))\n",
        "    model.add(tf.keras.layers.MaxPooling1D(pool_size=2, strides=2, data_format=\"channels_last\"))\n",
        "\n",
        "    # Add second convolutional layer\n",
        "    model.add(tf.keras.layers.Conv1D(64, 3, activation='relu'))\n",
        "    model.add(tf.keras.layers.MaxPooling1D(pool_size=2, strides=2, data_format=\"channels_last\"))\n",
        "\n",
        "    # Flatten the output before fully connected layers\n",
        "    model.add(tf.keras.layers.Flatten())\n",
        "\n",
        "    # Fully connected layers\n",
        "    model.add(tf.keras.layers.Dense(128, activation='relu'))\n",
        "\n",
        "    # Dropout layer\n",
        "    model.add(tf.keras.layers.Dropout(0.7))\n",
        "\n",
        "    # Output layer\n",
        "    model.add(tf.keras.layers.Dense(32))\n",
        "    model.add(tf.keras.layers.Dense(4))\n",
        "\n",
        "    return model"
      ],
      "metadata": {
        "id": "zYyIeW6zg_rz"
      },
      "execution_count": null,
      "outputs": []
    },
    {
      "cell_type": "code",
      "source": [
        "def LSTMn():\n",
        "    model = tf.keras.Sequential()\n",
        "\n",
        "    # LSTM layer\n",
        "    model.add(tf.keras.layers.LSTM(100, input_shape=X.shape[1:]))\n",
        "\n",
        "    # Fully connected layers\n",
        "    model.add(tf.keras.layers.Dense(128, activation='relu'))\n",
        "\n",
        "    # Dropout layer\n",
        "    model.add(tf.keras.layers.Dropout(0.7))\n",
        "\n",
        "    # Output layer\n",
        "    model.add(tf.keras.layers.Dense(10))\n",
        "\n",
        "    return model"
      ],
      "metadata": {
        "id": "qgChrET9h-2b"
      },
      "execution_count": null,
      "outputs": []
    },
    {
      "cell_type": "code",
      "source": [
        "def dense():\n",
        "    return tf.keras.Sequential([\n",
        "        tf.keras.layers.Flatten(input_shape=X.shape[1:]),\n",
        "        tf.keras.layers.Dense(128, activation='relu'),\n",
        "        tf.keras.layers.Dense(64, activation='relu'),  # Add a fully connected layer\n",
        "        tf.keras.layers.Dropout(0.7),  # Adjust the dropout rate as needed\n",
        "        tf.keras.layers.Dense(4)\n",
        "    ])\n"
      ],
      "metadata": {
        "id": "1mJ_8TQtvbAL"
      },
      "execution_count": null,
      "outputs": []
    },
    {
      "cell_type": "code",
      "source": [
        "crossval(single_con, 40, X_train, y_train, X_test, y_test)"
      ],
      "metadata": {
        "colab": {
          "base_uri": "https://localhost:8080/"
        },
        "id": "lYbai3gjho5E",
        "outputId": "be3067a3-1a33-4b6a-b678-2b43d1e6f1f1"
      },
      "execution_count": null,
      "outputs": [
        {
          "output_type": "stream",
          "name": "stdout",
          "text": [
            "------------------------------------------------------------------------\n",
            "Training for fold 1 ...\n",
            "Epoch 1/40\n",
            "1/1 [==============================] - 1s 1s/step - loss: 445864.3750 - accuracy: 0.1250\n",
            "Epoch 2/40\n",
            "1/1 [==============================] - 0s 29ms/step - loss: 157396.4688 - accuracy: 0.3750\n",
            "Epoch 3/40\n",
            "1/1 [==============================] - 0s 26ms/step - loss: 98598.3359 - accuracy: 0.5000\n",
            "Epoch 4/40\n",
            "1/1 [==============================] - 0s 30ms/step - loss: 140234.4688 - accuracy: 0.3750\n",
            "Epoch 5/40\n",
            "1/1 [==============================] - 0s 29ms/step - loss: 86677.4375 - accuracy: 0.5000\n",
            "Epoch 6/40\n",
            "1/1 [==============================] - 0s 29ms/step - loss: 73545.7188 - accuracy: 0.5000\n",
            "Epoch 7/40\n",
            "1/1 [==============================] - 0s 27ms/step - loss: 69548.1641 - accuracy: 0.6250\n",
            "Epoch 8/40\n",
            "1/1 [==============================] - 0s 25ms/step - loss: 91870.0234 - accuracy: 0.5000\n",
            "Epoch 9/40\n",
            "1/1 [==============================] - 0s 35ms/step - loss: 50696.0000 - accuracy: 0.5000\n",
            "Epoch 10/40\n",
            "1/1 [==============================] - 0s 27ms/step - loss: 92793.3125 - accuracy: 0.3750\n",
            "Epoch 11/40\n",
            "1/1 [==============================] - 0s 26ms/step - loss: 44991.3633 - accuracy: 0.5000\n",
            "Epoch 12/40\n",
            "1/1 [==============================] - 0s 26ms/step - loss: 22686.4531 - accuracy: 0.5000\n",
            "Epoch 13/40\n",
            "1/1 [==============================] - 0s 31ms/step - loss: 56885.2500 - accuracy: 0.3750\n",
            "Epoch 14/40\n",
            "1/1 [==============================] - 0s 33ms/step - loss: 21060.0117 - accuracy: 0.5000\n",
            "Epoch 15/40\n",
            "1/1 [==============================] - 0s 26ms/step - loss: 24775.3359 - accuracy: 0.5000\n",
            "Epoch 16/40\n",
            "1/1 [==============================] - 0s 25ms/step - loss: 12748.6992 - accuracy: 0.7500\n",
            "Epoch 17/40\n",
            "1/1 [==============================] - 0s 24ms/step - loss: 16932.5938 - accuracy: 0.5000\n",
            "Epoch 18/40\n",
            "1/1 [==============================] - 0s 24ms/step - loss: 8221.5762 - accuracy: 0.6250\n",
            "Epoch 19/40\n",
            "1/1 [==============================] - 0s 25ms/step - loss: 6781.3325 - accuracy: 0.8750\n",
            "Epoch 20/40\n",
            "1/1 [==============================] - 0s 28ms/step - loss: 12210.4902 - accuracy: 0.2500\n",
            "Epoch 21/40\n",
            "1/1 [==============================] - 0s 24ms/step - loss: 9974.5840 - accuracy: 0.7500\n",
            "Epoch 22/40\n",
            "1/1 [==============================] - 0s 24ms/step - loss: 0.0000e+00 - accuracy: 1.0000\n",
            "Epoch 23/40\n",
            "1/1 [==============================] - 0s 23ms/step - loss: 994.7344 - accuracy: 0.8750\n",
            "Epoch 24/40\n",
            "1/1 [==============================] - 0s 24ms/step - loss: 28548.7773 - accuracy: 0.5000\n",
            "Epoch 25/40\n",
            "1/1 [==============================] - 0s 27ms/step - loss: 16349.9434 - accuracy: 0.6250\n",
            "Epoch 26/40\n",
            "1/1 [==============================] - 0s 28ms/step - loss: 14949.7324 - accuracy: 0.6250\n",
            "Epoch 27/40\n",
            "1/1 [==============================] - 0s 28ms/step - loss: 1711.1514 - accuracy: 0.7500\n",
            "Epoch 28/40\n",
            "1/1 [==============================] - 0s 24ms/step - loss: 5059.8750 - accuracy: 0.8750\n",
            "Epoch 29/40\n",
            "1/1 [==============================] - 0s 24ms/step - loss: 2069.1167 - accuracy: 0.7500\n",
            "Epoch 30/40\n",
            "1/1 [==============================] - 0s 26ms/step - loss: 2525.8413 - accuracy: 0.8750\n",
            "Epoch 31/40\n",
            "1/1 [==============================] - 0s 28ms/step - loss: 0.0000e+00 - accuracy: 1.0000\n",
            "Epoch 32/40\n",
            "1/1 [==============================] - 0s 26ms/step - loss: 9233.2188 - accuracy: 0.6250\n",
            "Epoch 33/40\n",
            "1/1 [==============================] - 0s 26ms/step - loss: 9643.3076 - accuracy: 0.8750\n",
            "Epoch 34/40\n",
            "1/1 [==============================] - 0s 26ms/step - loss: 4523.2368 - accuracy: 0.7500\n",
            "Epoch 35/40\n",
            "1/1 [==============================] - 0s 24ms/step - loss: 3511.3447 - accuracy: 0.7500\n",
            "Epoch 36/40\n",
            "1/1 [==============================] - 0s 26ms/step - loss: 3795.2500 - accuracy: 0.7500\n",
            "Epoch 37/40\n",
            "1/1 [==============================] - 0s 24ms/step - loss: 13293.0449 - accuracy: 0.8750\n",
            "Epoch 38/40\n",
            "1/1 [==============================] - 0s 29ms/step - loss: 2689.8628 - accuracy: 0.7500\n",
            "Epoch 39/40\n",
            "1/1 [==============================] - 0s 23ms/step - loss: 2619.1719 - accuracy: 0.7500\n",
            "Epoch 40/40\n",
            "1/1 [==============================] - 0s 26ms/step - loss: 1371.1757 - accuracy: 0.7500\n",
            "1/1 [==============================] - 0s 191ms/step - loss: 371396.5000 - accuracy: 0.5000\n",
            "Score for fold 1 - accuracy: 50.00%\n",
            "------------------------------------------------------------------------\n",
            "Training for fold 2 ...\n",
            "Epoch 1/40\n",
            "1/1 [==============================] - 1s 1s/step - loss: 322511.3125 - accuracy: 0.3750\n",
            "Epoch 2/40\n",
            "1/1 [==============================] - 0s 24ms/step - loss: 544184.7500 - accuracy: 0.3750\n",
            "Epoch 3/40\n",
            "1/1 [==============================] - 0s 23ms/step - loss: 122929.4766 - accuracy: 0.3750\n",
            "Epoch 4/40\n",
            "1/1 [==============================] - 0s 26ms/step - loss: 195428.0625 - accuracy: 0.5000\n",
            "Epoch 5/40\n",
            "1/1 [==============================] - 0s 26ms/step - loss: 95175.6719 - accuracy: 0.6250\n",
            "Epoch 6/40\n",
            "1/1 [==============================] - 0s 26ms/step - loss: 1132334.1250 - accuracy: 0.3750\n",
            "Epoch 7/40\n",
            "1/1 [==============================] - 0s 25ms/step - loss: 282105.2812 - accuracy: 0.5000\n",
            "Epoch 8/40\n",
            "1/1 [==============================] - 0s 26ms/step - loss: 170739.2656 - accuracy: 0.5000\n",
            "Epoch 9/40\n",
            "1/1 [==============================] - 0s 23ms/step - loss: 1143076.5000 - accuracy: 0.2500\n",
            "Epoch 10/40\n",
            "1/1 [==============================] - 0s 25ms/step - loss: 46125.6602 - accuracy: 0.6250\n",
            "Epoch 11/40\n",
            "1/1 [==============================] - 0s 29ms/step - loss: 61723.4805 - accuracy: 0.3750\n",
            "Epoch 12/40\n",
            "1/1 [==============================] - 0s 26ms/step - loss: 139558.3438 - accuracy: 0.3750\n",
            "Epoch 13/40\n",
            "1/1 [==============================] - 0s 27ms/step - loss: 54670.2969 - accuracy: 0.5000\n",
            "Epoch 14/40\n",
            "1/1 [==============================] - 0s 24ms/step - loss: 631886.8125 - accuracy: 0.7500\n",
            "Epoch 15/40\n",
            "1/1 [==============================] - 0s 25ms/step - loss: 162781.7344 - accuracy: 0.3750\n",
            "Epoch 16/40\n",
            "1/1 [==============================] - 0s 24ms/step - loss: 53736.9062 - accuracy: 0.6250\n",
            "Epoch 17/40\n",
            "1/1 [==============================] - 0s 29ms/step - loss: 86220.1562 - accuracy: 0.6250\n",
            "Epoch 18/40\n",
            "1/1 [==============================] - 0s 25ms/step - loss: 31138.0195 - accuracy: 0.7500\n",
            "Epoch 19/40\n",
            "1/1 [==============================] - 0s 34ms/step - loss: 34527.5234 - accuracy: 0.6250\n",
            "Epoch 20/40\n",
            "1/1 [==============================] - 0s 25ms/step - loss: 53406.0547 - accuracy: 0.6250\n",
            "Epoch 21/40\n",
            "1/1 [==============================] - 0s 31ms/step - loss: 80127.5391 - accuracy: 0.3750\n",
            "Epoch 22/40\n",
            "1/1 [==============================] - 0s 27ms/step - loss: 25601.4961 - accuracy: 0.6250\n",
            "Epoch 23/40\n",
            "1/1 [==============================] - 0s 26ms/step - loss: 336865.9062 - accuracy: 0.5000\n",
            "Epoch 24/40\n",
            "1/1 [==============================] - 0s 28ms/step - loss: 68279.0859 - accuracy: 0.3750\n",
            "Epoch 25/40\n",
            "1/1 [==============================] - 0s 28ms/step - loss: 14544.7871 - accuracy: 0.7500\n",
            "Epoch 26/40\n",
            "1/1 [==============================] - 0s 29ms/step - loss: 65653.8750 - accuracy: 0.6250\n",
            "Epoch 27/40\n",
            "1/1 [==============================] - 0s 25ms/step - loss: 14649.5342 - accuracy: 0.7500\n",
            "Epoch 28/40\n",
            "1/1 [==============================] - 0s 26ms/step - loss: 43458.7969 - accuracy: 0.7500\n",
            "Epoch 29/40\n",
            "1/1 [==============================] - 0s 26ms/step - loss: 2098.7183 - accuracy: 0.7500\n",
            "Epoch 30/40\n",
            "1/1 [==============================] - 0s 27ms/step - loss: 7711.1172 - accuracy: 0.8750\n",
            "Epoch 31/40\n",
            "1/1 [==============================] - 0s 28ms/step - loss: 29646.7891 - accuracy: 0.3750\n",
            "Epoch 32/40\n",
            "1/1 [==============================] - 0s 24ms/step - loss: 9164.4834 - accuracy: 0.7500\n",
            "Epoch 33/40\n",
            "1/1 [==============================] - 0s 26ms/step - loss: 8200.7549 - accuracy: 0.8750\n",
            "Epoch 34/40\n",
            "1/1 [==============================] - 0s 24ms/step - loss: 4755.1743 - accuracy: 0.8750\n",
            "Epoch 35/40\n",
            "1/1 [==============================] - 0s 23ms/step - loss: 13081.7656 - accuracy: 0.6250\n",
            "Epoch 36/40\n",
            "1/1 [==============================] - 0s 26ms/step - loss: 7720.9375 - accuracy: 0.7500\n",
            "Epoch 37/40\n",
            "1/1 [==============================] - 0s 25ms/step - loss: 10456.7031 - accuracy: 0.6250\n",
            "Epoch 38/40\n",
            "1/1 [==============================] - 0s 25ms/step - loss: 880.9729 - accuracy: 0.8750\n",
            "Epoch 39/40\n",
            "1/1 [==============================] - 0s 23ms/step - loss: 4508.1157 - accuracy: 0.6250\n",
            "Epoch 40/40\n",
            "1/1 [==============================] - 0s 25ms/step - loss: 11508.1992 - accuracy: 0.6250\n",
            "1/1 [==============================] - 0s 199ms/step - loss: 9762.4512 - accuracy: 0.7500\n",
            "Score for fold 2 - accuracy: 75.00%\n",
            "------------------------------------------------------------------------\n",
            "Avg accuracies: 62.50% (+/- 12.50%)\n",
            "34/34 - 1s - loss: 67356288.0000 - accuracy: 0.2961 - 1s/epoch - 31ms/step\n",
            "\n",
            "Test accuracy: 0.29605263471603394\n"
          ]
        }
      ]
    },
    {
      "cell_type": "code",
      "source": [
        "crossval(LSTMn, 40, X_train, y_train, X_test, y_test)"
      ],
      "metadata": {
        "colab": {
          "base_uri": "https://localhost:8080/"
        },
        "id": "6bAMi0eOhkuJ",
        "outputId": "4a7b70d8-60fd-47b5-e380-c08ce90ef2b1"
      },
      "execution_count": null,
      "outputs": [
        {
          "output_type": "stream",
          "name": "stdout",
          "text": [
            "------------------------------------------------------------------------\n",
            "Training for fold 1 ...\n",
            "Epoch 1/40\n",
            "1/1 [==============================] - 3s 3s/step - loss: 2.3177 - accuracy: 0.0000e+00\n",
            "Epoch 2/40\n",
            "1/1 [==============================] - 0s 187ms/step - loss: 2.2900 - accuracy: 0.1250\n",
            "Epoch 3/40\n",
            "1/1 [==============================] - 0s 146ms/step - loss: 2.2965 - accuracy: 0.2500\n",
            "Epoch 4/40\n",
            "1/1 [==============================] - 0s 183ms/step - loss: 2.2748 - accuracy: 0.5000\n",
            "Epoch 5/40\n",
            "1/1 [==============================] - 0s 162ms/step - loss: 2.2592 - accuracy: 0.2500\n",
            "Epoch 6/40\n",
            "1/1 [==============================] - 0s 187ms/step - loss: 2.2618 - accuracy: 0.5000\n",
            "Epoch 7/40\n",
            "1/1 [==============================] - 0s 170ms/step - loss: 2.2382 - accuracy: 0.3750\n",
            "Epoch 8/40\n",
            "1/1 [==============================] - 0s 182ms/step - loss: 2.2217 - accuracy: 0.3750\n",
            "Epoch 9/40\n",
            "1/1 [==============================] - 0s 154ms/step - loss: 2.1392 - accuracy: 0.5000\n",
            "Epoch 10/40\n",
            "1/1 [==============================] - 0s 156ms/step - loss: 2.1101 - accuracy: 0.1250\n",
            "Epoch 11/40\n",
            "1/1 [==============================] - 0s 168ms/step - loss: 2.0670 - accuracy: 0.2500\n",
            "Epoch 12/40\n",
            "1/1 [==============================] - 0s 167ms/step - loss: 2.0195 - accuracy: 0.2500\n",
            "Epoch 13/40\n",
            "1/1 [==============================] - 0s 179ms/step - loss: 1.9479 - accuracy: 0.3750\n",
            "Epoch 14/40\n",
            "1/1 [==============================] - 0s 147ms/step - loss: 1.6624 - accuracy: 0.5000\n",
            "Epoch 15/40\n",
            "1/1 [==============================] - 0s 152ms/step - loss: 1.9496 - accuracy: 0.2500\n",
            "Epoch 16/40\n",
            "1/1 [==============================] - 0s 168ms/step - loss: 1.5472 - accuracy: 0.3750\n",
            "Epoch 17/40\n",
            "1/1 [==============================] - 0s 228ms/step - loss: 2.0091 - accuracy: 0.3750\n",
            "Epoch 18/40\n",
            "1/1 [==============================] - 0s 178ms/step - loss: 1.8313 - accuracy: 0.3750\n",
            "Epoch 19/40\n",
            "1/1 [==============================] - 0s 200ms/step - loss: 1.9987 - accuracy: 0.3750\n",
            "Epoch 20/40\n",
            "1/1 [==============================] - 0s 174ms/step - loss: 1.3986 - accuracy: 0.5000\n",
            "Epoch 21/40\n",
            "1/1 [==============================] - 0s 181ms/step - loss: 1.7569 - accuracy: 0.2500\n",
            "Epoch 22/40\n",
            "1/1 [==============================] - 0s 218ms/step - loss: 1.6903 - accuracy: 0.3750\n",
            "Epoch 23/40\n",
            "1/1 [==============================] - 0s 217ms/step - loss: 1.4079 - accuracy: 0.5000\n",
            "Epoch 24/40\n",
            "1/1 [==============================] - 0s 172ms/step - loss: 1.9457 - accuracy: 0.2500\n",
            "Epoch 25/40\n",
            "1/1 [==============================] - 0s 154ms/step - loss: 1.6248 - accuracy: 0.3750\n",
            "Epoch 26/40\n",
            "1/1 [==============================] - 0s 120ms/step - loss: 1.8013 - accuracy: 0.2500\n",
            "Epoch 27/40\n",
            "1/1 [==============================] - 0s 95ms/step - loss: 1.4148 - accuracy: 0.5000\n",
            "Epoch 28/40\n",
            "1/1 [==============================] - 0s 110ms/step - loss: 1.6451 - accuracy: 0.3750\n",
            "Epoch 29/40\n",
            "1/1 [==============================] - 0s 122ms/step - loss: 1.5396 - accuracy: 0.3750\n",
            "Epoch 30/40\n",
            "1/1 [==============================] - 0s 112ms/step - loss: 1.7458 - accuracy: 0.1250\n",
            "Epoch 31/40\n",
            "1/1 [==============================] - 0s 114ms/step - loss: 1.3868 - accuracy: 0.6250\n",
            "Epoch 32/40\n",
            "1/1 [==============================] - 0s 103ms/step - loss: 1.4445 - accuracy: 0.2500\n",
            "Epoch 33/40\n",
            "1/1 [==============================] - 0s 108ms/step - loss: 1.6306 - accuracy: 0.3750\n",
            "Epoch 34/40\n",
            "1/1 [==============================] - 0s 113ms/step - loss: 1.2915 - accuracy: 0.5000\n",
            "Epoch 35/40\n",
            "1/1 [==============================] - 0s 107ms/step - loss: 1.4487 - accuracy: 0.3750\n",
            "Epoch 36/40\n",
            "1/1 [==============================] - 0s 108ms/step - loss: 1.4093 - accuracy: 0.3750\n",
            "Epoch 37/40\n",
            "1/1 [==============================] - 0s 108ms/step - loss: 1.3769 - accuracy: 0.6250\n",
            "Epoch 38/40\n",
            "1/1 [==============================] - 0s 119ms/step - loss: 1.4624 - accuracy: 0.2500\n",
            "Epoch 39/40\n",
            "1/1 [==============================] - 0s 103ms/step - loss: 1.5080 - accuracy: 0.6250\n",
            "Epoch 40/40\n",
            "1/1 [==============================] - 0s 109ms/step - loss: 1.2202 - accuracy: 0.6250\n",
            "1/1 [==============================] - 1s 811ms/step - loss: 1.5734 - accuracy: 0.6250\n",
            "Score for fold 1 - accuracy: 62.50%\n",
            "------------------------------------------------------------------------\n",
            "Training for fold 2 ...\n",
            "Epoch 1/40\n",
            "1/1 [==============================] - 4s 4s/step - loss: 2.3126 - accuracy: 0.0000e+00\n",
            "Epoch 2/40\n",
            "1/1 [==============================] - 0s 97ms/step - loss: 2.2498 - accuracy: 0.0000e+00\n",
            "Epoch 3/40\n",
            "1/1 [==============================] - 0s 115ms/step - loss: 2.2394 - accuracy: 0.1250\n",
            "Epoch 4/40\n",
            "1/1 [==============================] - 0s 114ms/step - loss: 2.1592 - accuracy: 0.2500\n",
            "Epoch 5/40\n",
            "1/1 [==============================] - 0s 114ms/step - loss: 2.0995 - accuracy: 0.1250\n",
            "Epoch 6/40\n",
            "1/1 [==============================] - 0s 108ms/step - loss: 2.0911 - accuracy: 0.5000\n",
            "Epoch 7/40\n",
            "1/1 [==============================] - 0s 123ms/step - loss: 1.7981 - accuracy: 0.6250\n",
            "Epoch 8/40\n",
            "1/1 [==============================] - 0s 121ms/step - loss: 1.8915 - accuracy: 0.5000\n",
            "Epoch 9/40\n",
            "1/1 [==============================] - 0s 106ms/step - loss: 1.8178 - accuracy: 0.3750\n",
            "Epoch 10/40\n",
            "1/1 [==============================] - 0s 106ms/step - loss: 1.7602 - accuracy: 0.7500\n",
            "Epoch 11/40\n",
            "1/1 [==============================] - 0s 136ms/step - loss: 1.6202 - accuracy: 0.3750\n",
            "Epoch 12/40\n",
            "1/1 [==============================] - 0s 117ms/step - loss: 1.6843 - accuracy: 0.5000\n",
            "Epoch 13/40\n",
            "1/1 [==============================] - 0s 121ms/step - loss: 1.6638 - accuracy: 0.3750\n",
            "Epoch 14/40\n",
            "1/1 [==============================] - 0s 106ms/step - loss: 1.6181 - accuracy: 0.6250\n",
            "Epoch 15/40\n",
            "1/1 [==============================] - 0s 113ms/step - loss: 1.6414 - accuracy: 0.6250\n",
            "Epoch 16/40\n",
            "1/1 [==============================] - 0s 110ms/step - loss: 1.4167 - accuracy: 0.5000\n",
            "Epoch 17/40\n",
            "1/1 [==============================] - 0s 122ms/step - loss: 1.3797 - accuracy: 0.5000\n",
            "Epoch 18/40\n",
            "1/1 [==============================] - 0s 105ms/step - loss: 1.3456 - accuracy: 0.6250\n",
            "Epoch 19/40\n",
            "1/1 [==============================] - 0s 109ms/step - loss: 1.4427 - accuracy: 0.3750\n",
            "Epoch 20/40\n",
            "1/1 [==============================] - 0s 119ms/step - loss: 1.1042 - accuracy: 0.7500\n",
            "Epoch 21/40\n",
            "1/1 [==============================] - 0s 116ms/step - loss: 0.9854 - accuracy: 0.7500\n",
            "Epoch 22/40\n",
            "1/1 [==============================] - 0s 105ms/step - loss: 1.1871 - accuracy: 0.7500\n",
            "Epoch 23/40\n",
            "1/1 [==============================] - 0s 115ms/step - loss: 0.9451 - accuracy: 0.8750\n",
            "Epoch 24/40\n",
            "1/1 [==============================] - 0s 108ms/step - loss: 0.9696 - accuracy: 0.6250\n",
            "Epoch 25/40\n",
            "1/1 [==============================] - 0s 122ms/step - loss: 1.0417 - accuracy: 0.7500\n",
            "Epoch 26/40\n",
            "1/1 [==============================] - 0s 108ms/step - loss: 1.1081 - accuracy: 0.6250\n",
            "Epoch 27/40\n",
            "1/1 [==============================] - 0s 112ms/step - loss: 0.9097 - accuracy: 0.7500\n",
            "Epoch 28/40\n",
            "1/1 [==============================] - 0s 104ms/step - loss: 0.7908 - accuracy: 0.8750\n",
            "Epoch 29/40\n",
            "1/1 [==============================] - 0s 118ms/step - loss: 0.9265 - accuracy: 0.8750\n",
            "Epoch 30/40\n",
            "1/1 [==============================] - 0s 112ms/step - loss: 0.7703 - accuracy: 1.0000\n",
            "Epoch 31/40\n",
            "1/1 [==============================] - 0s 123ms/step - loss: 0.6539 - accuracy: 1.0000\n",
            "Epoch 32/40\n",
            "1/1 [==============================] - 0s 110ms/step - loss: 0.5494 - accuracy: 1.0000\n",
            "Epoch 33/40\n",
            "1/1 [==============================] - 0s 114ms/step - loss: 0.8315 - accuracy: 0.7500\n",
            "Epoch 34/40\n",
            "1/1 [==============================] - 0s 97ms/step - loss: 0.4596 - accuracy: 0.8750\n",
            "Epoch 35/40\n",
            "1/1 [==============================] - 0s 114ms/step - loss: 0.6928 - accuracy: 0.8750\n",
            "Epoch 36/40\n",
            "1/1 [==============================] - 0s 108ms/step - loss: 0.4769 - accuracy: 0.8750\n",
            "Epoch 37/40\n",
            "1/1 [==============================] - 0s 129ms/step - loss: 0.5448 - accuracy: 0.7500\n",
            "Epoch 38/40\n",
            "1/1 [==============================] - 0s 102ms/step - loss: 0.3592 - accuracy: 1.0000\n",
            "Epoch 39/40\n",
            "1/1 [==============================] - 0s 101ms/step - loss: 0.3794 - accuracy: 1.0000\n",
            "Epoch 40/40\n",
            "1/1 [==============================] - 0s 106ms/step - loss: 0.2718 - accuracy: 1.0000\n",
            "1/1 [==============================] - 1s 530ms/step - loss: 2.3200 - accuracy: 0.3750\n",
            "Score for fold 2 - accuracy: 37.50%\n",
            "------------------------------------------------------------------------\n",
            "Avg accuracies: 50.00% (+/- 12.50%)\n",
            "34/34 - 2s - loss: 1.6794 - accuracy: 0.2989 - 2s/epoch - 70ms/step\n",
            "\n",
            "Test accuracy: 0.298872172832489\n"
          ]
        }
      ]
    },
    {
      "cell_type": "code",
      "source": [
        "crossval(dense, 40, X_train, y_train, X_test, y_test)"
      ],
      "metadata": {
        "colab": {
          "base_uri": "https://localhost:8080/"
        },
        "id": "q51K09r66j0Z",
        "outputId": "8d33e5a3-56a6-497a-8907-312bbb35044e"
      },
      "execution_count": null,
      "outputs": [
        {
          "output_type": "stream",
          "name": "stdout",
          "text": [
            "------------------------------------------------------------------------\n",
            "Training for fold 1 ...\n",
            "Epoch 1/40\n",
            "1/1 [==============================] - 1s 982ms/step - loss: 216919.4375 - accuracy: 0.1250\n",
            "Epoch 2/40\n",
            "1/1 [==============================] - 0s 177ms/step - loss: 3143745.5000 - accuracy: 0.3750\n",
            "Epoch 3/40\n",
            "1/1 [==============================] - 0s 175ms/step - loss: 2539421.0000 - accuracy: 0.3750\n",
            "Epoch 4/40\n",
            "1/1 [==============================] - 0s 180ms/step - loss: 1276183.6250 - accuracy: 0.5000\n",
            "Epoch 5/40\n",
            "1/1 [==============================] - 0s 187ms/step - loss: 2856817.2500 - accuracy: 0.3750\n",
            "Epoch 6/40\n",
            "1/1 [==============================] - 0s 173ms/step - loss: 1085055.1250 - accuracy: 0.5000\n",
            "Epoch 7/40\n",
            "1/1 [==============================] - 0s 179ms/step - loss: 3267697.5000 - accuracy: 0.2500\n",
            "Epoch 8/40\n",
            "1/1 [==============================] - 0s 177ms/step - loss: 2645190.0000 - accuracy: 0.2500\n",
            "Epoch 9/40\n",
            "1/1 [==============================] - 0s 179ms/step - loss: 1355561.7500 - accuracy: 0.5000\n",
            "Epoch 10/40\n",
            "1/1 [==============================] - 0s 182ms/step - loss: 1578440.1250 - accuracy: 0.5000\n",
            "Epoch 11/40\n",
            "1/1 [==============================] - 0s 188ms/step - loss: 1664289.7500 - accuracy: 0.5000\n",
            "Epoch 12/40\n",
            "1/1 [==============================] - 0s 176ms/step - loss: 2049116.7500 - accuracy: 0.2500\n",
            "Epoch 13/40\n",
            "1/1 [==============================] - 0s 174ms/step - loss: 411276.2500 - accuracy: 0.7500\n",
            "Epoch 14/40\n",
            "1/1 [==============================] - 0s 171ms/step - loss: 1690992.2500 - accuracy: 0.3750\n",
            "Epoch 15/40\n",
            "1/1 [==============================] - 0s 172ms/step - loss: 2033528.2500 - accuracy: 0.3750\n",
            "Epoch 16/40\n",
            "1/1 [==============================] - 0s 183ms/step - loss: 839408.6875 - accuracy: 0.3750\n",
            "Epoch 17/40\n",
            "1/1 [==============================] - 0s 173ms/step - loss: 1486075.2500 - accuracy: 0.3750\n",
            "Epoch 18/40\n",
            "1/1 [==============================] - 0s 172ms/step - loss: 1018660.8750 - accuracy: 0.8750\n",
            "Epoch 19/40\n",
            "1/1 [==============================] - 0s 172ms/step - loss: 206654.0156 - accuracy: 0.7500\n",
            "Epoch 20/40\n",
            "1/1 [==============================] - 0s 275ms/step - loss: 1326909.2500 - accuracy: 0.3750\n",
            "Epoch 21/40\n",
            "1/1 [==============================] - 0s 274ms/step - loss: 960116.7500 - accuracy: 0.3750\n",
            "Epoch 22/40\n",
            "1/1 [==============================] - 0s 274ms/step - loss: 167655.4219 - accuracy: 0.7500\n",
            "Epoch 23/40\n",
            "1/1 [==============================] - 0s 260ms/step - loss: 693039.6875 - accuracy: 0.3750\n",
            "Epoch 24/40\n",
            "1/1 [==============================] - 0s 258ms/step - loss: 330579.5312 - accuracy: 0.7500\n",
            "Epoch 25/40\n",
            "1/1 [==============================] - 0s 278ms/step - loss: 849858.0625 - accuracy: 0.2500\n",
            "Epoch 26/40\n",
            "1/1 [==============================] - 0s 243ms/step - loss: 543173.0625 - accuracy: 0.6250\n",
            "Epoch 27/40\n",
            "1/1 [==============================] - 0s 269ms/step - loss: 1402343.8750 - accuracy: 0.3750\n",
            "Epoch 28/40\n",
            "1/1 [==============================] - 0s 270ms/step - loss: 841660.4375 - accuracy: 0.7500\n",
            "Epoch 29/40\n",
            "1/1 [==============================] - 0s 279ms/step - loss: 675183.5000 - accuracy: 0.6250\n",
            "Epoch 30/40\n",
            "1/1 [==============================] - 0s 261ms/step - loss: 389464.3125 - accuracy: 0.7500\n",
            "Epoch 31/40\n",
            "1/1 [==============================] - 0s 240ms/step - loss: 446988.1250 - accuracy: 0.5000\n",
            "Epoch 32/40\n",
            "1/1 [==============================] - 0s 254ms/step - loss: 626004.5625 - accuracy: 0.5000\n",
            "Epoch 33/40\n",
            "1/1 [==============================] - 0s 260ms/step - loss: 954010.0625 - accuracy: 0.6250\n",
            "Epoch 34/40\n",
            "1/1 [==============================] - 0s 276ms/step - loss: 223930.7812 - accuracy: 0.7500\n",
            "Epoch 35/40\n",
            "1/1 [==============================] - 0s 277ms/step - loss: 324414.1250 - accuracy: 0.7500\n",
            "Epoch 36/40\n",
            "1/1 [==============================] - 0s 229ms/step - loss: 93525.3281 - accuracy: 0.8750\n",
            "Epoch 37/40\n",
            "1/1 [==============================] - 0s 288ms/step - loss: 17066.8711 - accuracy: 0.8750\n",
            "Epoch 38/40\n",
            "1/1 [==============================] - 0s 291ms/step - loss: 720197.5625 - accuracy: 0.6250\n",
            "Epoch 39/40\n",
            "1/1 [==============================] - 0s 298ms/step - loss: 549295.3750 - accuracy: 0.5000\n",
            "Epoch 40/40\n",
            "1/1 [==============================] - 0s 307ms/step - loss: 1056002.1250 - accuracy: 0.6250\n",
            "1/1 [==============================] - 0s 327ms/step - loss: 1076047.3750 - accuracy: 0.7500\n",
            "Score for fold 1 - accuracy: 75.00%\n",
            "------------------------------------------------------------------------\n",
            "Training for fold 2 ...\n",
            "Epoch 1/40\n",
            "1/1 [==============================] - 1s 1s/step - loss: 174813.7500 - accuracy: 0.3750\n",
            "Epoch 2/40\n",
            "1/1 [==============================] - 0s 283ms/step - loss: 1645354.7500 - accuracy: 0.3750\n",
            "Epoch 3/40\n",
            "1/1 [==============================] - 0s 307ms/step - loss: 1276789.5000 - accuracy: 0.3750\n",
            "Epoch 4/40\n",
            "1/1 [==============================] - 0s 264ms/step - loss: 4284311.5000 - accuracy: 0.3750\n",
            "Epoch 5/40\n",
            "1/1 [==============================] - 0s 286ms/step - loss: 2648706.5000 - accuracy: 0.5000\n",
            "Epoch 6/40\n",
            "1/1 [==============================] - 0s 249ms/step - loss: 2356566.2500 - accuracy: 0.3750\n",
            "Epoch 7/40\n",
            "1/1 [==============================] - 0s 229ms/step - loss: 2798045.5000 - accuracy: 0.5000\n",
            "Epoch 8/40\n",
            "1/1 [==============================] - 0s 252ms/step - loss: 5186161.0000 - accuracy: 0.2500\n",
            "Epoch 9/40\n",
            "1/1 [==============================] - 0s 279ms/step - loss: 5458035.0000 - accuracy: 0.3750\n",
            "Epoch 10/40\n",
            "1/1 [==============================] - 0s 267ms/step - loss: 3361955.5000 - accuracy: 0.3750\n",
            "Epoch 11/40\n",
            "1/1 [==============================] - 0s 260ms/step - loss: 2111906.7500 - accuracy: 0.5000\n",
            "Epoch 12/40\n",
            "1/1 [==============================] - 0s 267ms/step - loss: 1966247.0000 - accuracy: 0.5000\n",
            "Epoch 13/40\n",
            "1/1 [==============================] - 0s 260ms/step - loss: 839893.3750 - accuracy: 0.6250\n",
            "Epoch 14/40\n",
            "1/1 [==============================] - 0s 272ms/step - loss: 2812120.5000 - accuracy: 0.6250\n",
            "Epoch 15/40\n",
            "1/1 [==============================] - 0s 285ms/step - loss: 1930628.1250 - accuracy: 0.5000\n",
            "Epoch 16/40\n",
            "1/1 [==============================] - 0s 285ms/step - loss: 5518751.0000 - accuracy: 0.2500\n",
            "Epoch 17/40\n",
            "1/1 [==============================] - 0s 270ms/step - loss: 856433.5625 - accuracy: 0.8750\n",
            "Epoch 18/40\n",
            "1/1 [==============================] - 0s 269ms/step - loss: 1577463.0000 - accuracy: 0.7500\n",
            "Epoch 19/40\n",
            "1/1 [==============================] - 0s 266ms/step - loss: 1782270.7500 - accuracy: 0.6250\n",
            "Epoch 20/40\n",
            "1/1 [==============================] - 0s 248ms/step - loss: 383667.5938 - accuracy: 0.8750\n",
            "Epoch 21/40\n",
            "1/1 [==============================] - 0s 239ms/step - loss: 1220688.0000 - accuracy: 0.7500\n",
            "Epoch 22/40\n",
            "1/1 [==============================] - 0s 245ms/step - loss: 1342236.5000 - accuracy: 0.6250\n",
            "Epoch 23/40\n",
            "1/1 [==============================] - 0s 196ms/step - loss: 1103073.1250 - accuracy: 0.6250\n",
            "Epoch 24/40\n",
            "1/1 [==============================] - 0s 173ms/step - loss: 2944001.0000 - accuracy: 0.3750\n",
            "Epoch 25/40\n",
            "1/1 [==============================] - 0s 177ms/step - loss: 1500012.7500 - accuracy: 0.7500\n",
            "Epoch 26/40\n",
            "1/1 [==============================] - 0s 177ms/step - loss: 197682.9688 - accuracy: 0.7500\n",
            "Epoch 27/40\n",
            "1/1 [==============================] - 0s 178ms/step - loss: 745461.0000 - accuracy: 0.6250\n",
            "Epoch 28/40\n",
            "1/1 [==============================] - 0s 181ms/step - loss: 686416.7500 - accuracy: 0.7500\n",
            "Epoch 29/40\n",
            "1/1 [==============================] - 0s 184ms/step - loss: 432510.7812 - accuracy: 0.7500\n",
            "Epoch 30/40\n",
            "1/1 [==============================] - 0s 172ms/step - loss: 439271.4375 - accuracy: 0.7500\n",
            "Epoch 31/40\n",
            "1/1 [==============================] - 0s 174ms/step - loss: 114496.7969 - accuracy: 0.7500\n",
            "Epoch 32/40\n",
            "1/1 [==============================] - 0s 177ms/step - loss: 1204605.7500 - accuracy: 0.3750\n",
            "Epoch 33/40\n",
            "1/1 [==============================] - 0s 168ms/step - loss: 1251100.8750 - accuracy: 0.7500\n",
            "Epoch 34/40\n",
            "1/1 [==============================] - 0s 172ms/step - loss: 205128.6719 - accuracy: 0.7500\n",
            "Epoch 35/40\n",
            "1/1 [==============================] - 0s 184ms/step - loss: 447339.0000 - accuracy: 0.8750\n",
            "Epoch 36/40\n",
            "1/1 [==============================] - 0s 175ms/step - loss: 87311.3203 - accuracy: 0.7500\n",
            "Epoch 37/40\n",
            "1/1 [==============================] - 0s 182ms/step - loss: 1140011.0000 - accuracy: 0.5000\n",
            "Epoch 38/40\n",
            "1/1 [==============================] - 0s 173ms/step - loss: 401443.7500 - accuracy: 0.7500\n",
            "Epoch 39/40\n",
            "1/1 [==============================] - 0s 172ms/step - loss: 52570.2656 - accuracy: 0.8750\n",
            "Epoch 40/40\n",
            "1/1 [==============================] - 0s 171ms/step - loss: 347799.0000 - accuracy: 0.8750\n",
            "1/1 [==============================] - 0s 157ms/step - loss: 657654.0625 - accuracy: 0.6250\n",
            "Score for fold 2 - accuracy: 62.50%\n",
            "------------------------------------------------------------------------\n",
            "Avg accuracies: 68.75% (+/- 6.25%)\n",
            "34/34 - 1s - loss: 256804928.0000 - accuracy: 0.3665 - 1s/epoch - 32ms/step\n",
            "\n",
            "Test accuracy: 0.3665413558483124\n"
          ]
        }
      ]
    },
    {
      "cell_type": "code",
      "source": [
        "import numpy as np\n",
        "\n",
        "def calculate_and_display_metrics(model, X_test, y_test):\n",
        "    # Predictions\n",
        "    y_pred_probs = model.predict(X_test)\n",
        "    y_pred_labels = np.argmax(y_pred_probs, axis=1)  # Convert probabilities to class labels\n",
        "\n",
        "    # Precision, Recall, F1 Score\n",
        "    precision = precision_score(y_test, y_pred_labels, average='weighted')\n",
        "    recall = recall_score(y_test, y_pred_labels, average='weighted')\n",
        "    f1 = f1_score(y_test, y_pred_labels, average='weighted')\n",
        "\n",
        "    # Confusion Matrix\n",
        "    conf_matrix = confusion_matrix(y_test, y_pred_labels)\n",
        "\n",
        "    print(f'Precision: {precision:.2f}')\n",
        "    print(f'Recall: {recall:.2f}')\n",
        "    print(f'F1 Score: {f1:.2f}')\n",
        "    print('Confusion Matrix:')\n",
        "    print(conf_matrix)\n",
        "\n",
        "# Example usage for your single_con model\n",
        "calculate_and_display_metrics(single_con(), X_test, y_test)\n"
      ],
      "metadata": {
        "colab": {
          "base_uri": "https://localhost:8080/"
        },
        "id": "B7gebpe7DHeX",
        "outputId": "5dc8c73b-25f7-4e83-a54a-9d732e468751"
      },
      "execution_count": null,
      "outputs": [
        {
          "output_type": "stream",
          "name": "stdout",
          "text": [
            "34/34 [==============================] - 1s 34ms/step\n",
            "Precision: 0.15\n",
            "Recall: 0.24\n",
            "F1 Score: 0.16\n",
            "Confusion Matrix:\n",
            "[[  2 235   0  29]\n",
            " [  4 185   1  74]\n",
            " [  8 194   0  64]\n",
            " [  6 195   0  67]]\n"
          ]
        }
      ]
    }
  ]
}